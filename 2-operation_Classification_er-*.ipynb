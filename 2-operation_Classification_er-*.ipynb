version https://git-lfs.github.com/spec/v1
oid sha256:7499fb73651169f749d2b7f0df87c9e6cddfe2094420afc6a934de18f802810d
size 667901
